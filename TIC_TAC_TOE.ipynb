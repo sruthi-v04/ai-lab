{
  "nbformat": 4,
  "nbformat_minor": 0,
  "metadata": {
    "colab": {
      "provenance": [],
      "authorship_tag": "ABX9TyMczoVBAia/RJUeX0ab5y04",
      "include_colab_link": true
    },
    "kernelspec": {
      "name": "python3",
      "display_name": "Python 3"
    },
    "language_info": {
      "name": "python"
    }
  },
  "cells": [
    {
      "cell_type": "markdown",
      "metadata": {
        "id": "view-in-github",
        "colab_type": "text"
      },
      "source": [
        "<a href=\"https://colab.research.google.com/github/sruthi-v04/ai-lab/blob/main/TIC_TAC_TOE.ipynb\" target=\"_parent\"><img src=\"https://colab.research.google.com/assets/colab-badge.svg\" alt=\"Open In Colab\"/></a>"
      ]
    },
    {
      "cell_type": "code",
      "execution_count": 1,
      "metadata": {
        "id": "0dXiYxakKNtP"
      },
      "outputs": [],
      "source": [
        "combo_indices=[[0,1,2],[3,4,5],[6,7,8],[0,3,6],[1,4,7],[2,5,8],[0,4,8],[2,4,6]]"
      ]
    },
    {
      "cell_type": "code",
      "source": [
        "empty_sign='.'\n",
        "player_sign='X'\n",
        "Ai_sign='O'"
      ],
      "metadata": {
        "id": "G2B9ZRp5LTuh"
      },
      "execution_count": 2,
      "outputs": []
    },
    {
      "cell_type": "code",
      "source": [
        "def print_board(board):\n",
        "    print(\" \")\n",
        "    print(' '.join(board[:3]))\n",
        "    print(' '.join(board[3:6]))\n",
        "    print(' '.join(board[6:]))\n",
        "    print(\" \")"
      ],
      "metadata": {
        "id": "_DW9tesjLc75"
      },
      "execution_count": 17,
      "outputs": []
    },
    {
      "cell_type": "code",
      "source": [
        "def opponent_move(board, row, column):\n",
        "  index= 3*(row-1)+ (column-1)\n",
        "  if board[index]==empty_sign:\n",
        "    return board[:index]+ player_sign+ board[index:]\n",
        "  return board\n"
      ],
      "metadata": {
        "id": "4xRRJ7NPMPvt"
      },
      "execution_count": 5,
      "outputs": []
    },
    {
      "cell_type": "code",
      "source": [
        "def all_moves_from_board(board, sign):\n",
        "  move_list=[]\n",
        "  for i, v in enumerate(board):\n",
        "    if v==empty_sign:\n",
        "      move_list.append(board[i:]+sign+board[:i])\n",
        "    return move_list"
      ],
      "metadata": {
        "id": "IIw8WONxNJ6J"
      },
      "execution_count": 6,
      "outputs": []
    },
    {
      "cell_type": "code",
      "source": [
        "from random import choice\n",
        "\n",
        "\n",
        "def ai_move(board):\n",
        "  return(choice(all_moves_from_board(board, Ai_sign)))"
      ],
      "metadata": {
        "id": "hyeOXMeONz4K"
      },
      "execution_count": 8,
      "outputs": []
    },
    {
      "cell_type": "code",
      "source": [
        "def game_won_by(board):\n",
        "    for index in combo_indices:\n",
        "        if board[index[0]] == board[index[1]] == board[index[2]] != empty_sign:\n",
        "            return board[index[0]]\n",
        "    return empty_sign"
      ],
      "metadata": {
        "id": "fkWCLtEYOJKe"
      },
      "execution_count": 14,
      "outputs": []
    },
    {
      "cell_type": "code",
      "source": [
        "def game_loop():\n",
        "    board = empty_sign * 9\n",
        "    empty_cell_count = 9\n",
        "    is_game_ended = False\n",
        "\n",
        "    while empty_cell_count > 0 and not is_game_ended:\n",
        "        if empty_cell_count % 2 == 1:\n",
        "            board = ai_move(board)\n",
        "        else:\n",
        "            row = int(input('Enter row: '))\n",
        "            col = int(input('Enter column: '))\n",
        "            board = opponent_move(board, row, col)\n",
        "\n",
        "        print_board(board)\n",
        "        is_game_ended = game_won_by(board) != empty_sign\n",
        "        empty_cell_count = sum(1 for cell in board if cell == empty_sign)\n",
        "\n",
        "    print('Game has been ended.')\n",
        "    print('Game won by {}'.format(game_won_by(board)))\n"
      ],
      "metadata": {
        "collapsed": true,
        "id": "j_8I9N5jOTl5"
      },
      "execution_count": 20,
      "outputs": []
    },
    {
      "cell_type": "code",
      "source": [
        "game_loop()"
      ],
      "metadata": {
        "colab": {
          "base_uri": "https://localhost:8080/"
        },
        "id": "vKfZzx9GPgmf",
        "outputId": "58d5b811-17dc-4804-f38b-b2139b7f530e"
      },
      "execution_count": 19,
      "outputs": [
        {
          "output_type": "stream",
          "name": "stdout",
          "text": [
            " \n",
            ". . .\n",
            "X . .\n",
            ". . .\n",
            " \n",
            "Enter row: 1\n",
            "Enter column: 1\n",
            " \n",
            "O . .\n",
            "X . .\n",
            ". . .\n",
            " \n",
            " \n",
            "O . .\n",
            "X . X\n",
            ". . .\n",
            " \n",
            "Enter row: 2\n",
            "Enter column: 4\n",
            " \n",
            "O . .\n",
            "X . X\n",
            "O . .\n",
            " \n",
            " \n",
            "O . .\n",
            "X X X\n",
            "O . .\n",
            " \n",
            "Game has been ended.\n",
            "Game won by X\n"
          ]
        }
      ]
    }
  ]
}