{
  "nbformat": 4,
  "nbformat_minor": 0,
  "metadata": {
    "colab": {
      "provenance": [],
      "authorship_tag": "ABX9TyOHisMrg/DGNgvMQzbovWyh",
      "include_colab_link": true
    },
    "kernelspec": {
      "name": "python3",
      "display_name": "Python 3"
    },
    "language_info": {
      "name": "python"
    }
  },
  "cells": [
    {
      "cell_type": "markdown",
      "metadata": {
        "id": "view-in-github",
        "colab_type": "text"
      },
      "source": [
        "<a href=\"https://colab.research.google.com/github/sruthi-v04/ai-lab/blob/main/bfs_for_waterjug.ipynb\" target=\"_parent\"><img src=\"https://colab.research.google.com/assets/colab-badge.svg\" alt=\"Open In Colab\"/></a>"
      ]
    },
    {
      "cell_type": "code",
      "execution_count": 24,
      "metadata": {
        "id": "NEL7bcS8Qw0I"
      },
      "outputs": [],
      "source": [
        "from collections import deque"
      ]
    },
    {
      "cell_type": "code",
      "source": [
        "def solution(a,b,target):\n",
        "\n",
        "  m={}\n",
        "  is_solvable=False\n",
        "  path=[]\n",
        "  q=deque()\n",
        "  q.append((0,0))\n",
        "\n",
        "  while(len(q)>0):\n",
        "    u=q.popleft()\n",
        "\n",
        "\n",
        "    if(u[0] and u[1] in m):\n",
        "      continue\n",
        "\n",
        "    if(u[0]<0 or u[1]<0 or u[0]>a or u[1]>b):\n",
        "      continue\n",
        "\n",
        "    path.append([u[0],u[1]])\n",
        "    m[u[0],u[1]]=1\n",
        "\n",
        "    if(u[0]==target or u[1]==target):\n",
        "      is_solvable=True\n",
        "      for i in range(len(path)):\n",
        "        print(path[i][0],path[i][1])\n",
        "      print(\"path is possible\")\n",
        "      break\n",
        "\n",
        "\n",
        "    #fill to full capacity\n",
        "\n",
        "    q.append((u[0],b))\n",
        "    q.append((a,u[1]))\n",
        "\n",
        "    #fill one to another\n",
        "\n",
        "    for ap in range(max(a,b)+1):\n",
        "      c= u[0]-ap\n",
        "      d= u[1]+ap\n",
        "      if(0<=c<=a or 0<=d<=b):\n",
        "        q.append((c,d))\n",
        "      c=u[0]+ap\n",
        "      d=u[1]-ap\n",
        "      if(0<=c<=a or 0<=d<=b):\n",
        "        q.append((c,d))\n",
        "\n",
        "    #empty one completely\n",
        "\n",
        "    q.append((0,u[1]))\n",
        "    q.append((u[0],0))\n",
        "\n",
        "\n",
        "  if (not is_solvable):\n",
        "    print(\"not possible\")"
      ],
      "metadata": {
        "id": "xdEQGp3_W4AY"
      },
      "execution_count": 32,
      "outputs": []
    },
    {
      "cell_type": "code",
      "source": [
        "solution(4,3,2)"
      ],
      "metadata": {
        "colab": {
          "base_uri": "https://localhost:8080/"
        },
        "id": "kAcG7cPjepbO",
        "outputId": "3be8247e-1760-48be-d2d5-3306461c64b7"
      },
      "execution_count": 34,
      "outputs": [
        {
          "output_type": "stream",
          "name": "stdout",
          "text": [
            "0 0\n",
            "0 3\n",
            "4 0\n",
            "0 0\n",
            "0 0\n",
            "0 0\n",
            "0 0\n",
            "0 3\n",
            "4 3\n",
            "0 3\n",
            "0 3\n",
            "1 2\n",
            "path is possible\n"
          ]
        }
      ]
    }
  ]
}