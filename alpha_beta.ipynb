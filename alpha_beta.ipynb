{
  "nbformat": 4,
  "nbformat_minor": 0,
  "metadata": {
    "colab": {
      "provenance": [],
      "authorship_tag": "ABX9TyNswCqWuKTGixmIYqWvbg34",
      "include_colab_link": true
    },
    "kernelspec": {
      "name": "python3",
      "display_name": "Python 3"
    },
    "language_info": {
      "name": "python"
    }
  },
  "cells": [
    {
      "cell_type": "markdown",
      "metadata": {
        "id": "view-in-github",
        "colab_type": "text"
      },
      "source": [
        "<a href=\"https://colab.research.google.com/github/sruthi-v04/ai-lab/blob/main/alpha_beta.ipynb\" target=\"_parent\"><img src=\"https://colab.research.google.com/assets/colab-badge.svg\" alt=\"Open In Colab\"/></a>"
      ]
    },
    {
      "cell_type": "code",
      "execution_count": 1,
      "metadata": {
        "id": "slw7RLrc68gn"
      },
      "outputs": [],
      "source": [
        "import math"
      ]
    },
    {
      "cell_type": "code",
      "source": [
        "def minmax(currdepth, nodeIndex, maxturn, scores, max_depth):\n",
        "  alpha=float(\"-inf\")\n",
        "  beta=float(\"inf\")\n",
        "  if currdepth==max_depth:\n",
        "    return scores[nodeIndex]\n",
        "\n",
        "  if maxturn:\n",
        "    child1=minmax(currdepth+1, nodeIndex*2, False, scores, max_depth)\n",
        "    child2=minmax(currdepth+1, nodeIndex*2+1, False, scores, max_depth)\n",
        "    val= max(child1, child2)\n",
        "    alpha=max(alpha,val)\n",
        "\n",
        "    if alpha>=beta:\n",
        "      return val\n",
        "    return alpha\n",
        "\n",
        "  else:\n",
        "    child1=minmax(currdepth+1, nodeIndex*2, True, scores, max_depth)\n",
        "    child2=minmax(currdepth+1, nodeIndex*2+1, True, scores, max_depth)\n",
        "    val=min(child1, child2)\n",
        "    beta=min(beta,val)\n",
        "\n",
        "    if alpha>=beta:\n",
        "      return val\n",
        "    return beta"
      ],
      "metadata": {
        "id": "PNZMykDf7r5x"
      },
      "execution_count": 6,
      "outputs": []
    },
    {
      "cell_type": "code",
      "source": [
        "scores= eval(input(\"enter scores\"))\n",
        "max_depth=math.ceil(math.log2(len(scores)))\n",
        "print(minmax(0,0,True,scores,max_depth))"
      ],
      "metadata": {
        "colab": {
          "base_uri": "https://localhost:8080/"
        },
        "id": "WTJYRuJK9DU1",
        "outputId": "3d5828e2-86e0-4410-a22a-920bda82f7e8"
      },
      "execution_count": 7,
      "outputs": [
        {
          "output_type": "stream",
          "name": "stdout",
          "text": [
            "enter scores[3, 5, 6, 9, 1, 2, 0, -1] \n",
            "5\n"
          ]
        }
      ]
    }
  ]
}