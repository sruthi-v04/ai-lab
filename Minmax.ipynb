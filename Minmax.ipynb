{
  "nbformat": 4,
  "nbformat_minor": 0,
  "metadata": {
    "colab": {
      "provenance": [],
      "authorship_tag": "ABX9TyOkK9T2XckJB11Opy2lYHVB",
      "include_colab_link": true
    },
    "kernelspec": {
      "name": "python3",
      "display_name": "Python 3"
    },
    "language_info": {
      "name": "python"
    }
  },
  "cells": [
    {
      "cell_type": "markdown",
      "metadata": {
        "id": "view-in-github",
        "colab_type": "text"
      },
      "source": [
        "<a href=\"https://colab.research.google.com/github/sruthi-v04/ai-lab/blob/main/Minmax.ipynb\" target=\"_parent\"><img src=\"https://colab.research.google.com/assets/colab-badge.svg\" alt=\"Open In Colab\"/></a>"
      ]
    },
    {
      "cell_type": "code",
      "execution_count": 1,
      "metadata": {
        "id": "zsVS9vkGxkrC"
      },
      "outputs": [],
      "source": [
        "import math"
      ]
    },
    {
      "cell_type": "code",
      "source": [
        "def minmax(curr_depth, node_index, max_turn, scores, targetdepth):\n",
        "  if curr_depth == targetdepth:\n",
        "    return scores[node_index]\n",
        "\n",
        "  if max_turn:\n",
        "    child1=minmax(curr_depth + 1, node_index * 2, False, scores, targetdepth)\n",
        "    child2=minmax(curr_depth + 1, node_index * 2 + 1, False, scores, targetdepth)\n",
        "    return max(child1, child2)\n",
        "\n",
        "  else:\n",
        "    child1=minmax(curr_depth+1,node_index*2,True,scores,targetdepth)\n",
        "    child2=minmax(curr_depth+1,node_index*2+1,True,scores,targetdepth)\n",
        "    return min(child1,child2)"
      ],
      "metadata": {
        "id": "16Y9IH10xm7u"
      },
      "execution_count": 8,
      "outputs": []
    },
    {
      "cell_type": "code",
      "source": [
        "scores=eval(input(\"enter scores\"))\n",
        "print(\"optimal value is\")\n",
        "treeDepth = math.ceil(math.log2(len(scores)))\n",
        "print(minmax(0,0,True,scores,treeDepth))\n"
      ],
      "metadata": {
        "colab": {
          "base_uri": "https://localhost:8080/"
        },
        "id": "zQhF3m4ryop1",
        "outputId": "4e3625c7-223b-44b4-bb6d-effd4a2cb41a"
      },
      "execution_count": 12,
      "outputs": [
        {
          "output_type": "stream",
          "name": "stdout",
          "text": [
            "enter scores[3, 5, 2, 9, 12, 5, 23, 23]\n",
            "optimal value is\n",
            "12\n"
          ]
        }
      ]
    }
  ]
}