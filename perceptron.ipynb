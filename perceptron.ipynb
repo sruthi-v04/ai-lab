{
  "nbformat": 4,
  "nbformat_minor": 0,
  "metadata": {
    "colab": {
      "provenance": [],
      "authorship_tag": "ABX9TyOYcatPIySOPQE6PbBqFD+F",
      "include_colab_link": true
    },
    "kernelspec": {
      "name": "python3",
      "display_name": "Python 3"
    },
    "language_info": {
      "name": "python"
    }
  },
  "cells": [
    {
      "cell_type": "markdown",
      "metadata": {
        "id": "view-in-github",
        "colab_type": "text"
      },
      "source": [
        "<a href=\"https://colab.research.google.com/github/sruthi-v04/ai-lab/blob/main/perceptron.ipynb\" target=\"_parent\"><img src=\"https://colab.research.google.com/assets/colab-badge.svg\" alt=\"Open In Colab\"/></a>"
      ]
    },
    {
      "cell_type": "code",
      "execution_count": 5,
      "metadata": {
        "id": "WpUgGBOwh46f"
      },
      "outputs": [],
      "source": [
        "import numpy as np\n",
        "\n",
        "\n",
        "def perceptron(X, y, learning_rate=0.01, num_iterations=1000):\n",
        "    n_samples, n_features = X.shape\n",
        "    weight =np.zeros(n_features)\n",
        "    bias=0\n",
        "\n",
        "    for _ in range(num_iterations):\n",
        "        for idx, x_i in enumerate(X):\n",
        "            linear_output=np.dot(x_i,weight)+bias\n",
        "            y_predicted= 1 if linear_output>=0 else 0\n",
        "\n",
        "            update=learning_rate*(y[idx]-y_predicted)\n",
        "            weight+=update*x_i\n",
        "            bias+=update\n",
        "\n",
        "    return weight,bias\n"
      ]
    },
    {
      "cell_type": "code",
      "source": [
        "def predict(X, weight, bias):\n",
        "    linear_output= np.dot(X,weight)+bias\n",
        "    y_predicted = np.where(linear_output >= 0, 1, 0)\n",
        "    return y_predicted"
      ],
      "metadata": {
        "id": "p2pyucPClZl6"
      },
      "execution_count": 9,
      "outputs": []
    },
    {
      "cell_type": "code",
      "source": [
        "from sklearn.datasets import load_iris\n",
        "from sklearn.model_selection import train_test_split\n",
        "\n",
        "data = load_iris()\n",
        "X, y = data.data, data.target\n",
        "\n",
        "X = X[y != 2][:, :2]\n",
        "y = np.where(y[y != 2] == 0, 0, 1)\n",
        "\n",
        "X_train, X_test, y_train, y_test = train_test_split(X, y, test_size=0.3, random_state=42)\n"
      ],
      "metadata": {
        "id": "4q6P6kyWluA6"
      },
      "execution_count": 7,
      "outputs": []
    },
    {
      "cell_type": "code",
      "source": [
        "from sklearn.metrics import accuracy_score\n",
        "\n",
        "weights, bias = perceptron(X_train, y_train)\n",
        "\n",
        "\n",
        "y_pred = predict(X_test, weights, bias)\n",
        "\n",
        "accuracy = np.mean(y_pred == y_test)\n",
        "print(f'Accuracy: {accuracy}')\n"
      ],
      "metadata": {
        "colab": {
          "base_uri": "https://localhost:8080/"
        },
        "id": "RjQJm5zkl25F",
        "outputId": "e8a50984-ab26-4bf7-def8-b4423bea01ec"
      },
      "execution_count": 12,
      "outputs": [
        {
          "output_type": "stream",
          "name": "stdout",
          "text": [
            "Accuracy: 1.0\n"
          ]
        }
      ]
    }
  ]
}