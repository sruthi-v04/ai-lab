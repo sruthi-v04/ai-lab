{
  "nbformat": 4,
  "nbformat_minor": 0,
  "metadata": {
    "colab": {
      "provenance": [],
      "authorship_tag": "ABX9TyOWryw8CRVLd4hjNu5OI0Qn",
      "include_colab_link": true
    },
    "kernelspec": {
      "name": "python3",
      "display_name": "Python 3"
    },
    "language_info": {
      "name": "python"
    }
  },
  "cells": [
    {
      "cell_type": "markdown",
      "metadata": {
        "id": "view-in-github",
        "colab_type": "text"
      },
      "source": [
        "<a href=\"https://colab.research.google.com/github/sruthi-v04/ai-lab/blob/main/A_.ipynb\" target=\"_parent\"><img src=\"https://colab.research.google.com/assets/colab-badge.svg\" alt=\"Open In Colab\"/></a>"
      ]
    },
    {
      "cell_type": "code",
      "execution_count": 1,
      "metadata": {
        "id": "q1ZK6rm0-k-h"
      },
      "outputs": [],
      "source": [
        "import heapq"
      ]
    },
    {
      "cell_type": "code",
      "source": [
        "def heuristic(node,goal):\n",
        "  x1,y1=node\n",
        "  x2,y2=goal\n",
        "  return abs(x1-x2)+abs(y1-y2)\n",
        "\n",
        "#calculates approx from current to goal"
      ],
      "metadata": {
        "id": "rQJhSgEmCTgY"
      },
      "execution_count": 29,
      "outputs": []
    },
    {
      "cell_type": "code",
      "source": [
        "def a_star(graph, start, goal):\n",
        "    frontier = [(0, start)]\n",
        "    came_from = {}            #for path disply\n",
        "    cost_so_far = {start: 0}  #important for keeping track of visited nodes and including current costs\n",
        "\n",
        "    while frontier:\n",
        "        current_cost, current = heapq.heappop(frontier)\n",
        "        if current == goal:\n",
        "            break\n",
        "#calculation after this is kinda psych so lemme explain simply. enna na new cost is for nodes from current node.\n",
        "# new cost is idhu varaikum irundha cost plus cost to get to next node that cost.\n",
        "#if this is next node not in cost adhavadhu innum idhu visit panla\n",
        "#or if we have visited that new node but with a shit path ie more cost. we update this cost as the new cost for the new node\n",
        "#priority ah idha vechu ie low cost one push to heap.\n",
        "\n",
        "        for next_node in graph[current]:\n",
        "            new_cost = cost_so_far[current] + graph[current][next_node]\n",
        "            if next_node not in cost_so_far or new_cost < cost_so_far[next_node]:\n",
        "                cost_so_far[next_node] = new_cost\n",
        "                priority = new_cost + heuristic(next_node, goal)\n",
        "                heapq.heappush(frontier, (priority, next_node))\n",
        "                came_from[next_node] = current\n",
        "\n",
        "    path = [goal]\n",
        "    while goal in came_from:\n",
        "        goal = came_from[goal]\n",
        "        path.append(goal)\n",
        "    path.reverse()\n",
        "    return path\n",
        "\n",
        "\n",
        "\n"
      ],
      "metadata": {
        "id": "LoJyRd8xCaOC"
      },
      "execution_count": 32,
      "outputs": []
    },
    {
      "cell_type": "code",
      "source": [
        "graph = {\n",
        "    (0, 0): {(1, 0): 2, (0, 1): 1},\n",
        "    (1, 0): {(2, 0): 2, (1, 1): 1},\n",
        "    (0, 1): {(0, 0): 1, (1, 1): 1, (0, 2): 1},\n",
        "    (1, 1): {(1, 0): 1, (0, 1): 1, (1, 2): 1, (2, 1): 1},\n",
        "    (2, 0): {(1, 0): 2, (2, 1): 1},\n",
        "    (0, 2): {(0, 1): 1, (1, 2): 2},\n",
        "    (1, 2): {(1, 1): 1, (0, 2): 2, (2, 2): 1},\n",
        "    (2, 1): {(1, 1): 1, (2, 0): 1, (2, 2): 2},\n",
        "    (2, 2): {(1, 2): 1, (2, 1): 2}\n",
        "}\n",
        "\n",
        "\n",
        "\n",
        "start = (0, 0)\n",
        "goal = (1, 2)\n",
        "\n",
        "\n",
        "print(a_star(graph, start, goal))\n"
      ],
      "metadata": {
        "colab": {
          "base_uri": "https://localhost:8080/"
        },
        "id": "Xn5N8T2XEZNL",
        "outputId": "59435b69-2b21-4188-c9d3-903f557fab86"
      },
      "execution_count": 27,
      "outputs": [
        {
          "output_type": "stream",
          "name": "stdout",
          "text": [
            "[(0, 0), (0, 1), (1, 1), (1, 2)]\n"
          ]
        }
      ]
    }
  ]
}