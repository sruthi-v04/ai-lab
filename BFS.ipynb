{
  "nbformat": 4,
  "nbformat_minor": 0,
  "metadata": {
    "colab": {
      "provenance": [],
      "authorship_tag": "ABX9TyMrequ9CMu6Vnyxqa4sTXHD",
      "include_colab_link": true
    },
    "kernelspec": {
      "name": "python3",
      "display_name": "Python 3"
    },
    "language_info": {
      "name": "python"
    }
  },
  "cells": [
    {
      "cell_type": "markdown",
      "metadata": {
        "id": "view-in-github",
        "colab_type": "text"
      },
      "source": [
        "<a href=\"https://colab.research.google.com/github/sruthi-v04/ai-lab/blob/main/BFS.ipynb\" target=\"_parent\"><img src=\"https://colab.research.google.com/assets/colab-badge.svg\" alt=\"Open In Colab\"/></a>"
      ]
    },
    {
      "cell_type": "code",
      "execution_count": 2,
      "metadata": {
        "id": "szfnuvV4Le4e"
      },
      "outputs": [],
      "source": [
        "from collections import defaultdict, deque"
      ]
    },
    {
      "cell_type": "code",
      "source": [
        "def add_edge(graph,u,v):\n",
        "  graph[u].append(v)"
      ],
      "metadata": {
        "id": "kz84RoiQLskf"
      },
      "execution_count": 3,
      "outputs": []
    },
    {
      "cell_type": "code",
      "source": [
        "def bfs(graph,s):\n",
        "  visited=set()\n",
        "  queue=deque()\n",
        "  queue.append(s)\n",
        "  visited.add(s)\n",
        "\n",
        "  while queue:\n",
        "    u=queue.popleft()\n",
        "    print(u,end=\"->\")\n",
        "\n",
        "    for v in graph[u]:\n",
        "      if v not in visited:\n",
        "        queue.append(v)\n",
        "        visited.add(v)\n",
        "\n",
        "\n"
      ],
      "metadata": {
        "id": "Fm63LtCcL5fL"
      },
      "execution_count": 9,
      "outputs": []
    },
    {
      "cell_type": "code",
      "source": [
        "graph = defaultdict(list)\n",
        "add_edge(graph, 0, 1)\n",
        "add_edge(graph, 0, 2)\n",
        "add_edge(graph, 1, 2)\n",
        "add_edge(graph, 2, 0)\n",
        "add_edge(graph, 2, 3)\n",
        "add_edge(graph, 3, 3)\n",
        "\n",
        "print(\"Breadth First Traversal starting from vertex 2:\")\n",
        "bfs(graph, 2)"
      ],
      "metadata": {
        "colab": {
          "base_uri": "https://localhost:8080/"
        },
        "id": "SWj_4nW7MfHJ",
        "outputId": "fe430a9d-a9aa-420a-abc8-c0c789bb4b54"
      },
      "execution_count": 10,
      "outputs": [
        {
          "output_type": "stream",
          "name": "stdout",
          "text": [
            "Breadth First Traversal starting from vertex 2:\n",
            "2->0->3->1->"
          ]
        }
      ]
    }
  ]
}